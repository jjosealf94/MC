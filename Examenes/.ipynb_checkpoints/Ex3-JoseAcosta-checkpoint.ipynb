{
 "cells": [
  {
   "cell_type": "code",
   "execution_count": 39,
   "metadata": {
    "collapsed": false
   },
   "outputs": [
    {
     "name": "stdout",
     "output_type": "stream",
     "text": [
      "Populating the interactive namespace from numpy and matplotlib\n"
     ]
    },
    {
     "name": "stderr",
     "output_type": "stream",
     "text": [
      "WARNING: pylab import has clobbered these variables: ['random']\n",
      "`%matplotlib` prevents importing * from pylab and numpy\n"
     ]
    }
   ],
   "source": [
    "%pylab inline\n",
    "import random"
   ]
  },
  {
   "cell_type": "code",
   "execution_count": 40,
   "metadata": {
    "collapsed": false
   },
   "outputs": [
    {
     "name": "stdout",
     "output_type": "stream",
     "text": [
      "ingrese N:10\n",
      "[[ 0.37148417  0.69659701]\n",
      " [ 0.11460062  0.92516848]\n",
      " [ 0.18968629  0.40741895]\n",
      " [ 0.04841759  0.41233632]\n",
      " [ 0.58875869  0.74985764]\n",
      " [ 0.21932578  0.05256537]\n",
      " [ 0.83722033  0.01348703]\n",
      " [ 0.64811013  0.24800662]\n",
      " [ 0.75918715  0.33677583]\n",
      " [ 0.74575572  0.45136163]]\n",
      "0.696597007834\n"
     ]
    }
   ],
   "source": [
    "N=int(input(\"ingrese N:\"))\n",
    "def coord(N):\n",
    "    coordenadas=[]\n",
    "    for ___ in range(N):\n",
    "        coordenadas.append([random.random(),random.random()])\n",
    "    return array(coordenadas)\n",
    "c=coord(N)\n",
    "print(c)\n",
    "print(c[0][1])"
   ]
  },
  {
   "cell_type": "code",
   "execution_count": 41,
   "metadata": {
    "collapsed": false
   },
   "outputs": [
    {
     "name": "stdout",
     "output_type": "stream",
     "text": [
      "[0.34385182575380185, 0.34157637464010365, 0.43032098755177722, 0.22370719593713692, 0.6617619866579344, 0.82677046854514946, 0.52702491235884485, 0.52894695030053962, 0.44745902799220694, 0.52316578429206462, 0.51708511568637772, 0.50552919176388567, 0.87886491995288007, 1.163332416132449, 0.86207922228163425, 0.87275294478501253, 0.78920826914129039, 0.14135425697848289, 0.52585457478602682, 0.35608925879279885, 0.75794635907973384, 0.48535008242571914, 0.57386555268324746, 0.55780298571275533, 0.63709429255595118, 0.39830232843274271, 0.88390639359121959, 0.62180011732679452, 0.71477461168452361, 0.69842926756782131, 0.78911164168566628, 0.7771581953241059, 0.50534843814617714, 0.44685841341488169, 0.33726537696806652, 0.6191290602863041, 0.47122531475853702, 0.61010317348016796, 0.66042936558731735, 0.30126749631339661, 0.33257303663137044, 0.44732532026079491, 0.14219028760171218, 0.2255835240596748, 0.11537031586142929]\n"
     ]
    }
   ],
   "source": [
    "def dist(coord,N):\n",
    "    NnoR=N*(N-1.)/2.\n",
    "    distancia=[]\n",
    "    for i in range(int(N)):\n",
    "        for j in range(int(N)):\n",
    "            if(i!=j and j>i):\n",
    "                distancia.append( sqrt( (coord[i,0]-coord[j,0])**2 + (coord[i,1]-coord[j,1])**2 ) )\n",
    "    return distancia\n",
    "d=dist(c,N)\n",
    "print(d)\n"
   ]
  },
  {
   "cell_type": "markdown",
   "metadata": {},
   "source": [
    "\n",
    "##Pseudocódigo\n",
    "1. Escribir función que genere números aleatorios en un cuadrado unitario\n",
    "2. Escribir función que regrese las distancias no redundantes \n",
    "3. Se llama la función que genera # aleatorios 1000 veces para cada N que varía entre 8 y 124\n",
    "4. Se calculan los promedios cada una de las veces \n",
    "5. Se grafica los promedios en función de N "
   ]
  },
  {
   "cell_type": "code",
   "execution_count": 50,
   "metadata": {
    "collapsed": false
   },
   "outputs": [
    {
     "data": {
      "text/plain": [
       "10"
      ]
     },
     "execution_count": 50,
     "metadata": {},
     "output_type": "execute_result"
    }
   ],
   "source": [
    "iter=1000\n",
    "N=linspace(10,100,10)\n",
    "prom=[]\n",
    "for n in N:\n",
    "    suma=0.\n",
    "    for ___ in range(iter):\n",
    "        co=coord(int(n))\n",
    "        di=dist(co,int(n))\n",
    "        mini=di[0]\n",
    "        for i in range(len(di)):\n",
    "            if(mini>=di[i]):\n",
    "                mini=di[i]\n",
    "        suma+=mini\n",
    "    prom.append(suma/1000.)\n"
   ]
  },
  {
   "cell_type": "code",
   "execution_count": 63,
   "metadata": {
    "collapsed": false
   },
   "outputs": [
    {
     "data": {
      "image/png": "[encoded data removed]",
      "text/plain": [
       "<matplotlib.figure.Figure at 0x7f405faf0b38>"
      ]
     },
     "metadata": {},
     "output_type": "display_data"
    }
   ],
   "source": [
    "\n",
    "figure(figsize(10,10))\n",
    "scatter(N,prom)\n",
    "xlim(9,150)\n",
    "ylim(0.001,0.1)\n",
    "yscale('log')\n",
    "xscale('log')\n",
    "title('Distancia mínimas promedio')\n",
    "show()"
   ]
  },
  {
   "cell_type": "code",
   "execution_count": null,
   "metadata": {
    "collapsed": true
   },
   "outputs": [],
   "source": []
  }
 ],
 "metadata": {
  "kernelspec": {
   "display_name": "Python 3",
   "language": "python",
   "name": "python3"
  },
  "language_info": {
   "codemirror_mode": {
    "name": "ipython",
    "version": 3
   },
   "file_extension": ".py",
   "mimetype": "text/x-python",
   "name": "python",
   "nbconvert_exporter": "python",
   "pygments_lexer": "ipython3",
   "version": "3.4.3"
  }
 },
 "nbformat": 4,
 "nbformat_minor": 0
}
