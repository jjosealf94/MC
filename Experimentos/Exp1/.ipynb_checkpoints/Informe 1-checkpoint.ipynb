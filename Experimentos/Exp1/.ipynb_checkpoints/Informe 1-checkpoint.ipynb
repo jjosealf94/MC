{
 "cells": [
  {
   "cell_type": "markdown",
   "metadata": {},
   "source": [
    "#Simulación de distribución de velocidades de un gas caliente\n",
    "##José Alfonso Acosta Peñaloza\n",
    ">Resumen: En el presente informe se utiliza el código del libro _The Art of Molecular Dynamics Simulation de Rapapor_ para simular el comportamiento de un gas de discos suaves que interactúan de acuerdo al potencial de Lennard-Jones. "
   ]
  },
  {
   "cell_type": "markdown",
   "metadata": {},
   "source": [
    "## Introducción\n"
   ]
  },
  {
   "cell_type": "markdown",
   "metadata": {},
   "source": [
    "Los átomos en un gas están sujetos a distintas fuerzas cuando  están en el límite de separación y en un pequeña separación. Un fuerza de dispersión cuando se encuentran distanciados y la fuerza de repulsión de pauli cuando están muy cerca. El potencial de Lennard-Jones establece una relación matemática que modela éste comportamiento. \n",
    "\n",
    "El potencial de L-J fue propuesto en 1924 por John Lennard-Jones y tiene la forma: $ V(r) = 4a[(b/r)^{12} - (b/r)^6] $\n",
    "\n",
    "__Potencial de Lenard-Jones__ \n"
   ]
  },
  {
   "cell_type": "code",
   "execution_count": 2,
   "metadata": {
    "collapsed": false
   },
   "outputs": [
    {
     "name": "stdout",
     "output_type": "stream",
     "text": [
      "Populating the interactive namespace from numpy and matplotlib\n"
     ]
    },
    {
     "data": {
      "image/png": "[encoded data removed]",
      "text/plain": [
       "<matplotlib.figure.Figure at 0xb61093cc>"
      ]
     },
     "metadata": {},
     "output_type": "display_data"
    }
   ],
   "source": [
    "%pylab inline\n",
    "\n",
    "figure()\n",
    "x=linspace(0.1,1,100)\n",
    "v=(1/x**12 - 1/x**6)\n",
    "plot (x,v)\n",
    "show()"
   ]
  },
  {
   "cell_type": "markdown",
   "metadata": {},
   "source": [
    "El código utiliza el método de integración de salto de rana, el cual es un métodos de para solucionar ecuaciones diferenciales de la forma:   $X^\" = f(X)$ . El objetivo del experimento es estudiar la distribución de probabilidad de las las rapideces de las partículas del gas. Para lo cual se establecieron los siguientes parámetros:\n",
    "+ stepAvg -> 2\n",
    "+ stepLimit -> 500\n",
    "+ initUcell -> 40 40\n",
    "+ density -> 0.8 "
   ]
  },
  {
   "cell_type": "code",
   "execution_count": null,
   "metadata": {
    "collapsed": false
   },
   "outputs": [],
   "source": []
  }
 ],
 "metadata": {
  "kernelspec": {
   "display_name": "Python 3",
   "language": "python",
   "name": "python3"
  },
  "language_info": {
   "codemirror_mode": {
    "name": "ipython",
    "version": 3
   },
   "file_extension": ".py",
   "mimetype": "text/x-python",
   "name": "python",
   "nbconvert_exporter": "python",
   "pygments_lexer": "ipython3",
   "version": "3.4.3"
  }
 },
 "nbformat": 4,
 "nbformat_minor": 0
}
