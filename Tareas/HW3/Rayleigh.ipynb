{
 "cells": [
  {
   "cell_type": "markdown",
   "metadata": {},
   "source": [
    "#INSTRUCCIONES:\n",
    "La solución completa se encuentra en el siguiente [link](https://github.com/jjosealf94/MC/blob/master/Experimentos/Exp1/Rayleigh.ipynb). Favor entrar para poder ver la solución. "
   ]
  },
  {
   "cell_type": "code",
   "execution_count": null,
   "metadata": {
    "collapsed": true
   },
   "outputs": [],
   "source": []
  }
 ],
 "metadata": {
  "kernelspec": {
   "display_name": "Python 3",
   "language": "python",
   "name": "python3"
  },
  "language_info": {
   "codemirror_mode": {
    "name": "ipython",
    "version": 3
   },
   "file_extension": ".py",
   "mimetype": "text/x-python",
   "name": "python",
   "nbconvert_exporter": "python",
   "pygments_lexer": "ipython3",
   "version": "3.4.3"
  }
 },
 "nbformat": 4,
 "nbformat_minor": 0
}
