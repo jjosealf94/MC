{
 "cells": [
  {
   "cell_type": "code",
   "execution_count": 1,
   "metadata": {
    "collapsed": false
   },
   "outputs": [
    {
     "name": "stdout",
     "output_type": "stream",
     "text": [
      "Using matplotlib backend: Qt4Agg\n",
      "Populating the interactive namespace from numpy and matplotlib\n"
     ]
    }
   ],
   "source": [
    "%pylab "
   ]
  },
  {
   "cell_type": "code",
   "execution_count": 4,
   "metadata": {
    "collapsed": false
   },
   "outputs": [],
   "source": [
    "smin=-0.5\n",
    "smax=0.5\n",
    "ds=1.0e-2\n",
    "tmin=0\n",
    "tmax=10\n",
    "dt=1.5e-5\n",
    "v=400.\n",
    "eta=1000.\n",
    "r=v*dt/ds\n",
    "Nt=1000\n",
    "Nl=1000\n",
    "\n",
    "coords=np.linspace(smin,smax,Nl)\n",
    "xmesh,ymesh=np.meshgrid(coords,coords)\n",
    "tcoords=np.linspace(tmin,tmax,Nt)\n",
    "\n",
    "drum=zeros((Nt,Nl,Nl))\n",
    "stdev=0.1\n",
    "drum[0]=np.exp(-xmesh**2/(2*stdev**2))*np.exp(-ymesh**2/(2*stdev**2))\n",
    "drum[1]=drum[0]+r**2/2.*(np.roll(drum[0],1,axis=0)+np.roll(drum[0],-1,axis=0)+\n",
    "                         np.roll(drum[0],1,axis=1)+np.roll(drum[0],-1,axis=1)-4*drum[0])\n",
    "drum[i,0,:]=0.\n",
    "drum[i,-1,:]=0.\n",
    "drum[i,:,0]=0.\n",
    "drum[i,:,-1]=0.\n",
    "\n",
    "plt.figure(figsize=(10,10))\n",
    "plt.imshow(drum[0],cmap='gist_heat')\n",
    "plt.show()"
   ]
  },
  {
   "cell_type": "code",
   "execution_count": null,
   "metadata": {
    "collapsed": true
   },
   "outputs": [],
   "source": [
    "for i in range(2,Nt):\n",
    "    pdrum=drum[i-1]\n",
    "    ppdrum=drum[i-2]\n",
    "    drum[i]=2*(1.-2.*r**2)*pdrum-ppdrum+r**2*( np.roll(pdrum,1,axis=1)+np.roll(pdrum,-1,axis=1)\n",
    "                                             + np.roll(pdrum,1,axis=0)+np.roll(pdrum,-1,axis=0) )\n",
    "\n"
   ]
  }
 ],
 "metadata": {
  "kernelspec": {
   "display_name": "Python 3",
   "language": "python",
   "name": "python3"
  },
  "language_info": {
   "codemirror_mode": {
    "name": "ipython",
    "version": 3
   },
   "file_extension": ".py",
   "mimetype": "text/x-python",
   "name": "python",
   "nbconvert_exporter": "python",
   "pygments_lexer": "ipython3",
   "version": "3.4.3"
  }
 },
 "nbformat": 4,
 "nbformat_minor": 0
}
