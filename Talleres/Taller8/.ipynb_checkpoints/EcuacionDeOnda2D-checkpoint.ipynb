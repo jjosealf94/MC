{
 "cells": [
  {
   "cell_type": "code",
   "execution_count": 1,
   "metadata": {
    "collapsed": false
   },
   "outputs": [
    {
     "name": "stdout",
     "output_type": "stream",
     "text": [
      "Populating the interactive namespace from numpy and matplotlib\n"
     ]
    }
   ],
   "source": [
    "%pylab inline"
   ]
  },
  {
   "cell_type": "code",
   "execution_count": 15,
   "metadata": {
    "collapsed": false
   },
   "outputs": [],
   "source": [
    "Nf=6 #Numeros de caras del cubo\n",
    "Nt=2000 #Discretizacion tiempo\n",
    "Nl=50 #Discretizacion espacio (x,y)\n",
    "L=10. # Lado del cubo\n",
    "tmin=0 \n",
    "tmax=.3\n",
    "\n",
    "#Coordenadas (x,y) de cada cara (Centradas en 0,0)\n",
    "xmin=-L/2\n",
    "xmax=L/2\n",
    "ymin=-L/2\n",
    "ymax=L/2\n",
    "\n",
    "#Diferenciales de tiempo y espacio\n",
    "dt=(tmax-tmin)/Nt\n",
    "dx=(xmax-xmin)/Nl\n",
    "dy=(ymax-ymin)/Nl\n",
    "\n",
    "#Constante m/s\n",
    "v=425. \n",
    "#Se establecen las coordenadas temporales y espaciales\n",
    "xcoords=np.linspace(xmin,xmax,Nl)\n",
    "ycoords=np.linspace(ymin,ymax,Nl)\n",
    "tcoords=np.linspace(tmin,tmax,Nt)\n",
    "#Se establece un array de 4D donde se tiene organizado tiempo,numero de caras, coordenadas x, coordenadas y\n",
    "faces=np.zeros((Nt,Nf,Nl,Nl))\n",
    "xmesh,ymesh=np.meshgrid(xcoords,ycoords)\n",
    "\n",
    "#Se establecen las condiciones iniciales\n",
    "faces[0][1][:][:] =np.exp(-xmesh**2)*np.exp(-ymesh**2)\n",
    "faces[0][3][:][:] =np.exp(-xmesh**2)*np.exp(-ymesh**2)\n",
    "\n",
    "#Funcion que actuliza de acuerdo a las condiciones de frontera\n",
    "def Act0(faces,Nl):\n",
    "    cara=np.zeros((Nl,Nl))\n",
    "    auxiliar=np.zeros((Nl+2,Nl+2))\n",
    "    \n",
    "    cara[:][:]=faces[0][0][:][:]"
   ]
  },
  {
   "cell_type": "code",
   "execution_count": 29,
   "metadata": {
    "collapsed": false
   },
   "outputs": [
    {
     "name": "stdout",
     "output_type": "stream",
     "text": [
      "[[1, 1, 1, 1], [1, 1, 1, 1], [1, 1, 1, 1], [1, 1, 1, 1]]\n"
     ]
    }
   ],
   "source": []
  },
  {
   "cell_type": "code",
   "execution_count": 32,
   "metadata": {
    "collapsed": false
   },
   "outputs": [],
   "source": []
  },
  {
   "cell_type": "code",
   "execution_count": 33,
   "metadata": {
    "collapsed": false
   },
   "outputs": [
    {
     "name": "stdout",
     "output_type": "stream",
     "text": [
      "0.0 0.0\n",
      "0.0 0.0\n",
      "0.0 0.0\n",
      "0.0 0.0\n",
      "0.0 0.0\n",
      "0.0 0.0\n",
      "0.0 0.0\n",
      "0.0 0.0\n",
      "0.0 0.0\n",
      "0.0 0.0\n",
      "0.0 0.0\n",
      "0.0 0.0\n",
      "0.0 0.0\n",
      "0.0 0.0\n",
      "0.0 0.0\n",
      "0.0 0.0\n"
     ]
    }
   ],
   "source": []
  },
  {
   "cell_type": "code",
   "execution_count": null,
   "metadata": {
    "collapsed": true
   },
   "outputs": [],
   "source": []
  }
 ],
 "metadata": {
  "kernelspec": {
   "display_name": "Python 3",
   "language": "python",
   "name": "python3"
  },
  "language_info": {
   "codemirror_mode": {
    "name": "ipython",
    "version": 3
   },
   "file_extension": ".py",
   "mimetype": "text/x-python",
   "name": "python",
   "nbconvert_exporter": "python",
   "pygments_lexer": "ipython3",
   "version": "3.4.3"
  }
 },
 "nbformat": 4,
 "nbformat_minor": 0
}
