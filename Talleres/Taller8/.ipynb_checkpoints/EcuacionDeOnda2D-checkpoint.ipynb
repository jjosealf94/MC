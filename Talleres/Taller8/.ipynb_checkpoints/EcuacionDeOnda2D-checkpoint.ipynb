{
 "cells": [
  {
   "cell_type": "code",
   "execution_count": 1,
   "metadata": {
    "collapsed": false
   },
   "outputs": [
    {
     "name": "stdout",
     "output_type": "stream",
     "text": [
      "Populating the interactive namespace from numpy and matplotlib\n"
     ]
    }
   ],
   "source": [
    "%pylab inline"
   ]
  },
  {
   "cell_type": "code",
   "execution_count": 2,
   "metadata": {
    "collapsed": false
   },
   "outputs": [],
   "source": [
    "Nf=6 #Numeros de caras del cubo\n",
    "Nt=2000 #Discretizacion tiempo\n",
    "Nl=50 #Discretizacion espacio (x,y)\n",
    "L=10. # Lado del cubo\n",
    "tmin=0 \n",
    "tmax=.3\n",
    "\n",
    "#Coordenadas (x,y) de cada cara (Centradas en 0,0)\n",
    "xmin=-L/2\n",
    "xmax=L/2\n",
    "ymin=-L/2\n",
    "ymax=L/2\n",
    "\n",
    "#Diferenciales de tiempo y espacio\n",
    "dt=(tmax-tmin)/Nt\n",
    "dx=(xmax-xmin)/Nl\n",
    "dy=(ymax-ymin)/Nl\n",
    "\n",
    "#Constante m/s\n",
    "v=425.\n",
    "r=v*dt/dx\n",
    "#Se establecen las coordenadas temporales y espaciales\n",
    "xcoords=np.linspace(xmin,xmax,Nl)\n",
    "ycoords=np.linspace(ymin,ymax,Nl)\n",
    "tcoords=np.linspace(tmin,tmax,Nt)\n",
    "#Se establece seis array de 3D donde se tiene organizado tiempo, coordenadas x, coordenadas y\n",
    "faces0=np.zeros((Nt,Nl,Nl))\n",
    "faces1=np.zeros((Nt,Nl,Nl))\n",
    "faces2=np.zeros((Nt,Nl,Nl))\n",
    "faces3=np.zeros((Nt,Nl,Nl))\n",
    "faces4=np.zeros((Nt,Nl,Nl))\n",
    "faces5=np.zeros((Nt,Nl,Nl))\n",
    "\n",
    "xmesh,ymesh=np.meshgrid(xcoords,ycoords)\n",
    "\n",
    "#Se establecen las condiciones iniciales\n",
    "faces1[0][:][:] =np.exp(-xmesh**2)*np.exp(-ymesh**2)\n",
    "faces3[0][:][:] =np.exp(-xmesh**2)*np.exp(-ymesh**2)\n",
    "\n",
    "faces0[0][:][:] =np.exp(-xmesh**2)*np.exp(-ymesh**2)\n",
    "faces2[0][:][:] =np.exp(-xmesh**2)*np.exp(-ymesh**2)\n",
    "faces4[0][:][:] =np.exp(-xmesh**2)*np.exp(-ymesh**2)\n",
    "faces5[0][:][:] =np.exp(-xmesh**2)*np.exp(-ymesh**2)\n",
    "\n",
    "#Funcion que actuliza la cara 0\n",
    "def Act(faces0,faces1,faces2,faces3,faces4,faces5,Nl,t):\n",
    "    \n",
    "    cara0=faces0[t,:,:]\n",
    "    cara1=faces1[t,:,:]\n",
    "    cara2=faces2[t,:,:]\n",
    "    cara3=faces3[t,:,:]\n",
    "    cara4=faces4[t,:,:]\n",
    "    cara5=faces5[t,:,:]\n",
    "\n",
    "    cara0Act=np.zeros((Nl+2,Nl+2))\n",
    "    cara1Act=np.zeros((Nl+2,Nl+2))\n",
    "    cara2Act=np.zeros((Nl+2,Nl+2))\n",
    "    cara3Act=np.zeros((Nl+2,Nl+2))\n",
    "    cara4Act=np.zeros((Nl+2,Nl+2))\n",
    "    cara5Act=np.zeros((Nl+2,Nl+2))\n",
    "    \n",
    "    cara0Act[0,1:-1]=cara4[:,0]\n",
    "    cara0Act[-1,1:-1]=cara5[::-1,0]\n",
    "    cara0Act[1:-1,0]=cara3[:,-1]\n",
    "    cara0Act[1:-1,-1]=cara1[:,0]\n",
    "    \n",
    "    cara1Act[0,1:-1]=cara4[-1,:]\n",
    "    cara1Act[-1,1:-1]=cara5[0,::-1]\n",
    "    cara1Act[1:-1,0]=cara0[:,-1]\n",
    "    cara1Act[1:-1,-1]=cara2[:,0]\n",
    "    \n",
    "    cara2Act[0,1:-1]=cara4[::-1,-1]\n",
    "    cara2Act[-1,1:-1]=cara5[::-1,-1]\n",
    "    cara2Act[1:-1,0]=cara1[:,-1]\n",
    "    cara2Act[1:-1,-1]=cara3[:,0]\n",
    "    \n",
    "    cara3Act[0,1:-1]=cara4[0,::-1]\n",
    "    cara3Act[-1,1:-1]=cara5[-1,::-1]\n",
    "    cara3Act[1:-1,0]=cara2[:,-1]\n",
    "    cara3Act[1:-1,-1]=cara0[:,0]\n",
    "    \n",
    "    cara4Act[0,1:-1]=cara3[::-1,0]\n",
    "    cara4Act[-1,1:-1]=cara1[0,:]\n",
    "    cara4Act[1:-1,0]=cara0[0,:]\n",
    "    cara4Act[1:-1,-1]=cara2[0,::-1]\n",
    "    \n",
    "    cara5Act[0,1:-1]=cara2[0,:]\n",
    "    cara5Act[-1,1:-1]=cara3[-1,::-1]\n",
    "    cara5Act[1:-1,0]=cara0[-1,::-1]\n",
    "    cara5Act[1:-1,-1]=cara2[-1,:]\n",
    "    \n",
    "    face0[0,:]=cara0Act[0,1:-1]\n",
    "    face1=cara1Act\n",
    "    face2=cara2Act\n",
    "    face3=cara3Act\n",
    "    face4=cara4Act\n",
    "    face5=cara5Act\n"
   ]
  },
  {
   "cell_type": "code",
   "execution_count": 3,
   "metadata": {
    "collapsed": false
   },
   "outputs": [
    {
     "ename": "NameError",
     "evalue": "name 'faces' is not defined",
     "output_type": "error",
     "traceback": [
      "\u001b[1;31m---------------------------------------------------------------------------\u001b[0m",
      "\u001b[1;31mNameError\u001b[0m                                 Traceback (most recent call last)",
      "\u001b[1;32m<ipython-input-3-294bf9d95d4c>\u001b[0m in \u001b[0;36m<module>\u001b[1;34m()\u001b[0m\n\u001b[0;32m     15\u001b[0m \u001b[1;32mfor\u001b[0m \u001b[0mi\u001b[0m \u001b[1;32min\u001b[0m \u001b[0mrange\u001b[0m\u001b[1;33m(\u001b[0m\u001b[1;36m2\u001b[0m\u001b[1;33m,\u001b[0m\u001b[0mNt\u001b[0m\u001b[1;33m)\u001b[0m\u001b[1;33m:\u001b[0m\u001b[1;33m\u001b[0m\u001b[0m\n\u001b[0;32m     16\u001b[0m \u001b[1;33m\u001b[0m\u001b[0m\n\u001b[1;32m---> 17\u001b[1;33m     \u001b[0mAct\u001b[0m\u001b[1;33m(\u001b[0m\u001b[0mfaces\u001b[0m\u001b[1;33m,\u001b[0m\u001b[0mNl\u001b[0m\u001b[1;33m,\u001b[0m\u001b[0mi\u001b[0m\u001b[1;33m)\u001b[0m\u001b[1;33m\u001b[0m\u001b[0m\n\u001b[0m\u001b[0;32m     18\u001b[0m \u001b[1;33m\u001b[0m\u001b[0m\n\u001b[0;32m     19\u001b[0m     \u001b[0mpfaces0\u001b[0m\u001b[1;33m=\u001b[0m\u001b[0mfaces\u001b[0m\u001b[1;33m[\u001b[0m\u001b[0mi\u001b[0m\u001b[1;33m-\u001b[0m\u001b[1;36m1\u001b[0m\u001b[1;33m]\u001b[0m\u001b[1;33m[\u001b[0m\u001b[1;36m0\u001b[0m\u001b[1;33m]\u001b[0m\u001b[1;33m\u001b[0m\u001b[0m\n",
      "\u001b[1;31mNameError\u001b[0m: name 'faces' is not defined"
     ]
    }
   ],
   "source": [
    "pfaces0=np.zeros((Nt,Nl,Nl))\n",
    "ppfaces0=np.zeros((Nt,Nl,Nl))\n",
    "pfaces1=np.zeros((Nt,Nl,Nl))\n",
    "ppfaces1=np.zeros((Nt,Nl,Nl))\n",
    "pfaces2=np.zeros((Nt,Nl,Nl))\n",
    "ppfaces2=np.zeros((Nt,Nl,Nl))\n",
    "pfaces3=np.zeros((Nt,Nl,Nl))\n",
    "ppfaces3=np.zeros((Nt,Nl,Nl))\n",
    "pfaces4=np.zeros((Nt,Nl,Nl))\n",
    "ppfaces4=np.zeros((Nt,Nl,Nl))\n",
    "pfaces5=np.zeros((Nt,Nl,Nl))\n",
    "ppfaces5=np.zeros((Nt,Nl,Nl))\n",
    "\n",
    "\n",
    "for i in range(2,Nt):\n",
    "    \n",
    "    Act(faces0,faces1,faces2,faces3,faces4,faces5,Nl,i)\n",
    "    \n",
    "    pfaces0=faces0[i-1][0]\n",
    "    ppfaces0=faces0[i-2][0]\n",
    "    faces0[i]=2*(1.-2.*r**2)*pfaces0-ppfaces0+r**2*(np.roll(pfaces0,1,axis=1)+np.roll(pfaces0,-1,axis=1)+np.roll(pfaces0,1,axis=0)+np.roll(pfaces0,-1,axis=0))\n",
    "    \n",
    "    pfaces1=faces[i-1][1]\n",
    "    ppfaces1=faces[i-2][1]\n",
    "    faces[i][1]=2*(1.-2.*r**2)*pfaces1-ppfaces1+r**2*(np.roll(pfaces1,1,axis=1)+np.roll(pfaces1,-1,axis=1)+np.roll(pfaces1,1,axis=0)+np.roll(pfaces1,-1,axis=0))\n",
    "    \n",
    "    pfaces2=faces[i-1][2]\n",
    "    ppfaces2=faces[i-2][2]\n",
    "    faces[i][2]=2*(1.-2.*r**2)*pfaces2-ppfaces2+r**2*(np.roll(pfaces2,1,axis=1)+np.roll(pfaces2,-1,axis=1)+np.roll(pfaces2,1,axis=0)+np.roll(pfaces2,-1,axis=0))\n",
    "    \n",
    "    pfaces3=faces[i-1][3]\n",
    "    ppfaces3=faces[i-2][3]\n",
    "    faces[i][3]=2*(1.-2.*r**2)*pfaces3-ppfaces3+r**2*(np.roll(pfaces0,1,axis=1)+np.roll(pfaces3,-1,axis=1)+np.roll(pfaces3,1,axis=0)+np.roll(pfaces3,-1,axis=0))\n",
    "    \n",
    "    pfaces4=faces[i-1][4]\n",
    "    ppfaces4=faces[i-2][4]\n",
    "    faces[i][4]=2*(1.-2.*r**2)*pfaces4-ppfaces4+r**2*(np.roll(pfaces4,1,axis=1)+np.roll(pfaces4,-1,axis=1)+np.roll(pfaces4,1,axis=0)+np.roll(pfaces4,-1,axis=0))\n",
    "    \n",
    "    pfaces5=faces[i-1][5]\n",
    "    ppfaces5=faces[i-2][5]\n",
    "    faces[i][5]=2*(1.-2.*r**2)*pfaces5-ppfaces5+r**2*(np.roll(pfaces5,1,axis=1)+np.roll(pfaces5,-1,axis=1)+np.roll(pfaces5,1,axis=0)+np.roll(pfaces5,-1,axis=0))\n",
    "    \n",
    "   \n",
    "    \n",
    "\n",
    "\n"
   ]
  },
  {
   "cell_type": "code",
   "execution_count": 74,
   "metadata": {
    "collapsed": true
   },
   "outputs": [],
   "source": [
    "caras=np.zeros((Nt,3*Nl,4*Nl))\n",
    "for i in range(Nt):\n",
    "    for j in range(Nl):\n",
    "        for k in range(Nl):\n",
    "            \n",
    "            caras[i][j][Nl+k]=faces[i][4][j][k]\n",
    "            caras[i][Nl+j][k]=faces[i][0][j][k]\n",
    "            caras[i][Nl+j][Nl+k]=faces[i][1][j][k]\n",
    "            caras[i][Nl+j][2*Nl+k]=faces[i][2][j][k]\n",
    "            caras[i][Nl+j][3*Nl+k]=faces[i][3][j][k]\n",
    "            caras[i][2*Nl+j][Nl+k]=faces[i][5][j][k]\n"
   ]
  },
  {
   "cell_type": "code",
   "execution_count": 84,
   "metadata": {
    "collapsed": false
   },
   "outputs": [
    {
     "name": "stdout",
     "output_type": "stream",
     "text": [
      "Using matplotlib backend: Qt4Agg\n"
     ]
    }
   ],
   "source": [
    "%matplotlib\n",
    "from matplotlib import animation\n",
    "# Placa fría con borde caliente\n",
    "\n",
    "\n",
    "fig=plt.figure(figsize=(10,10))\n",
    "plt.pcolor(caras[1000],cmap='gist_heat')\n",
    "\n",
    "\n",
    "#def animate(i):\n",
    " #   plt.pcolor(caras[i],cmap='gist_heat',vmin=0.,vmax=1.)\n",
    "    \n",
    "#animacion = animation.FuncAnimation(fig, animate, np.arange(1,len(caras)),interval=20, blit=False)\n",
    "plt.show()\n",
    "plt.hold(False)\n"
   ]
  },
  {
   "cell_type": "code",
   "execution_count": null,
   "metadata": {
    "collapsed": true
   },
   "outputs": [],
   "source": []
  }
 ],
 "metadata": {
  "kernelspec": {
   "display_name": "Python 3",
   "language": "python",
   "name": "python3"
  },
  "language_info": {
   "codemirror_mode": {
    "name": "ipython",
    "version": 3
   },
   "file_extension": ".py",
   "mimetype": "text/x-python",
   "name": "python",
   "nbconvert_exporter": "python",
   "pygments_lexer": "ipython3",
   "version": "3.4.3"
  }
 },
 "nbformat": 4,
 "nbformat_minor": 0
}
