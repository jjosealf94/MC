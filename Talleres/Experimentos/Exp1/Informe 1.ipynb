{
 "metadata": {
  "name": ""
 },
 "nbformat": 3,
 "nbformat_minor": 0,
 "worksheets": [
  {
   "cells": [
    {
     "cell_type": "markdown",
     "metadata": {},
     "source": [
      "#Simulaci\u00f3n de distribuci\u00f3n de velocidades de un gas caliente\n",
      "##Jos\u00e9 Alfonso Acosta Pe\u00f1aloza\n",
      ">Resumen: En el presente informe se utiliza el c\u00f3digo del libro _The Art of Molecular Dynamics Simulation de Rapapor_ para simular el comportamiento de un gas de discos suaves que interact\u00faan de acuerdo al potencial de Lennard-Jones. "
     ]
    },
    {
     "cell_type": "markdown",
     "metadata": {},
     "source": [
      "## Introducci\u00f3n\n"
     ]
    },
    {
     "cell_type": "markdown",
     "metadata": {},
     "source": [
      "Los \u00e1tomos en un gas est\u00e1n sujetos a distintas fuerzas cuando  est\u00e1n en el l\u00edmite de separaci\u00f3n y en un peque\u00f1a separaci\u00f3n. Un fuerza de dispersi\u00f3n cuando se encuentran distanciados y la fuerza de repulsi\u00f3n de pauli cuando est\u00e1n muy cerca. El potencial de Lennard-Jones establece una relaci\u00f3n matem\u00e1tica que modela \u00e9ste comportamiento. \n",
      "\n",
      "El potencial de L-J fue propuesto en 1924 por John Lennard-Jones y tiene la forma: $ V(r) = 4a[(b/r)^{12} - (b/r)^6] $\n",
      "\n",
      "__Potencial de Lenard-Jones__ \n"
     ]
    },
    {
     "cell_type": "code",
     "collapsed": false,
     "input": [
      "%pylab inline\n",
      "\n",
      "figure()\n",
      "x=linspace(0.1,0.3,100)\n",
      "v=(1/x**12 - 1/x**6)\n",
      "plot (x,v)\n",
      "show()"
     ],
     "language": "python",
     "metadata": {},
     "outputs": [
      {
       "output_type": "stream",
       "stream": "stdout",
       "text": [
        "Populating the interactive namespace from numpy and matplotlib\n"
       ]
      },
      {
       "metadata": {},
       "output_type": "display_data",
       "png": "[encoded data removed]",
       "text": [
        "<matplotlib.figure.Figure at 0x433d890>"
       ]
      }
     ],
     "prompt_number": 49
    },
    {
     "cell_type": "markdown",
     "metadata": {},
     "source": [
      "El c\u00f3digo utiliza el m\u00e9todo de integraci\u00f3n de salto de rana, el cual es un m\u00e9todos de para solucionar ecuaciones diferenciales de la forma:   $X^\" = f(X)$ . El objetivo del experimento es estudiar la distribuci\u00f3n de probabilidad de las las rapideces de las part\u00edculas del gas. Para lo cual se establecieron los siguientes par\u00e1metros:\n",
      "+ stepAvg -> 2\n",
      "+ stepLimit -> 500\n",
      "+ initUcell -> 40 40\n",
      "+ density -> 0.8 "
     ]
    },
    {
     "cell_type": "code",
     "collapsed": false,
     "input": [],
     "language": "python",
     "metadata": {},
     "outputs": []
    }
   ],
   "metadata": {}
  }
 ]
}